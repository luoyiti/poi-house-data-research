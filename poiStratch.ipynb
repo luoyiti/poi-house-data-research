{
 "cells": [
  {
   "cell_type": "code",
   "execution_count": 1,
   "id": "2a5b2d26",
   "metadata": {},
   "outputs": [
    {
     "name": "stdout",
     "output_type": "stream",
     "text": [
      "POI 总数： 21811\n"
     ]
    }
   ],
   "source": [
    "import overpy\n",
    "import shapely.geometry\n",
    "import geopandas as gpd\n",
    "\n",
    "# 1. 定义上海边界（这里用一个简化的 bbox 例子；你可以用精确行政边界多边形）\n",
    "min_lon, min_lat = 120.85, 30.65\n",
    "max_lon, max_lat = 122.20, 31.90\n",
    "\n",
    "# 2. 设置 Overpass API\n",
    "api = overpy.Overpass()\n",
    "\n",
    "# 3. 构造 Overpass QL 查询\n",
    "# 这个例子获取在 bbox 内，标签为 amenity 的 POI\n",
    "query = f\"\"\"\n",
    "(\n",
    "  node[\"amenity\"]({min_lat},{min_lon},{max_lat},{max_lon});\n",
    "  way[\"amenity\"]({min_lat},{min_lon},{max_lat},{max_lon});\n",
    "  relation[\"amenity\"]({min_lat},{min_lon},{max_lat},{max_lon});\n",
    ");\n",
    "out center;  // 对于 way/relation，取中心点\n",
    "\"\"\"\n",
    "\n",
    "# 4. 执行查询\n",
    "result = api.query(query)\n",
    "\n",
    "# 5. 解析结果成 GeoDataFrame\n",
    "poi_list = []\n",
    "for node in result.nodes:\n",
    "    poi_list.append({\n",
    "        \"id\": node.id,\n",
    "        \"lon\": float(node.lon),\n",
    "        \"lat\": float(node.lat),\n",
    "        \"tags\": node.tags\n",
    "    })\n",
    "for way in result.ways:\n",
    "    # way.center_lat / center_lon 来自 out center\n",
    "    poi_list.append({\n",
    "        \"id\": way.id,\n",
    "        \"lon\": float(way.center_lon),\n",
    "        \"lat\": float(way.center_lat),\n",
    "        \"tags\": way.tags\n",
    "    })\n",
    "for rel in result.relations:\n",
    "    poi_list.append({\n",
    "        \"id\": rel.id,\n",
    "        \"lon\": float(rel.center_lon),\n",
    "        \"lat\": float(rel.center_lat),\n",
    "        \"tags\": rel.tags\n",
    "    })\n",
    "\n",
    "gdf = gpd.GeoDataFrame(\n",
    "    poi_list,\n",
    "    geometry=gpd.points_from_xy([p[\"lon\"] for p in poi_list],\n",
    "                                [p[\"lat\"] for p in poi_list]),\n",
    "    crs=\"EPSG:4326\"\n",
    ")\n",
    "\n",
    "# 6. 可选：筛选类别、保存为 Shapefile / GeoJSON / CSV\n",
    "gdf.to_file(\"shanghai_poi_osm.geojson\", driver=\"GeoJSON\")\n",
    "print(\"POI 总数：\", len(gdf))\n"
   ]
  }
 ],
 "metadata": {
  "kernelspec": {
   "display_name": "network_analysis",
   "language": "python",
   "name": "python3"
  },
  "language_info": {
   "codemirror_mode": {
    "name": "ipython",
    "version": 3
   },
   "file_extension": ".py",
   "mimetype": "text/x-python",
   "name": "python",
   "nbconvert_exporter": "python",
   "pygments_lexer": "ipython3",
   "version": "3.13.7"
  }
 },
 "nbformat": 4,
 "nbformat_minor": 5
}
