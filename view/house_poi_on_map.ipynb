{
 "cells": [
  {
   "cell_type": "markdown",
   "id": "a0e7301e",
   "metadata": {},
   "source": [
    "# 地图可视化"
   ]
  },
  {
   "cell_type": "markdown",
   "id": "19667105",
   "metadata": {},
   "source": [
    "## 数据准备"
   ]
  },
  {
   "cell_type": "code",
   "execution_count": 1,
   "id": "cba336e4",
   "metadata": {},
   "outputs": [],
   "source": [
    "import json\n",
    "import pandas as pd\n",
    "import folium\n",
    "from folium.plugins import HeatMap, MarkerCluster\n",
    "import webbrowser\n",
    "\n",
    "import sys\n",
    "sys.path.append('..')  # 添加上级目录到路径\n",
    "from tools.data_tool import *\n",
    "\n",
    "# 北京市中心坐标\n",
    "beijing_center = [39.9042, 116.4074]"
   ]
  },
  {
   "cell_type": "code",
   "execution_count": 2,
   "id": "f5005eb4",
   "metadata": {},
   "outputs": [
    {
     "name": "stdout",
     "output_type": "stream",
     "text": [
      "有效数据点数量: 9487\n",
      "有效数据点数量: 40887\n"
     ]
    }
   ],
   "source": [
    "# 读取数据\n",
    "with open(\"../data/house_data.json\", 'r') as f:\n",
    "    data = json.load(f)\n",
    "\n",
    "\n",
    "houses = json_data_to_vector(data)\n",
    "\n",
    "\n",
    "# 读取数据\n",
    "with open(\"../data/poi_data.json\", 'r') as f:\n",
    "    data = json.load(f)\n",
    "\n",
    "pois = json_data_to_vector(data)\n",
    "\n",
    "del data"
   ]
  },
  {
   "cell_type": "markdown",
   "id": "7b11749a",
   "metadata": {},
   "source": [
    "## 散点图"
   ]
  },
  {
   "cell_type": "code",
   "execution_count": 9,
   "id": "4fc7270a",
   "metadata": {},
   "outputs": [
    {
     "name": "stdout",
     "output_type": "stream",
     "text": [
      "✓ 几何形状区分地图已保存到: ../image/scatter_graph_beijing_houses_pois_map.html\n",
      "  - 🔶 房屋: 9487 个 (橙红色菱形)\n",
      "  - 🔺 POI: 40887 个 (青色三角形)\n"
     ]
    }
   ],
   "source": [
    "import folium\n",
    "from folium.plugins import MarkerCluster, FeatureGroupSubGroup\n",
    "\n",
    "# 创建地图\n",
    "m = folium.Map(\n",
    "    location=beijing_center,\n",
    "    zoom_start=11,\n",
    "    tiles='OpenStreetMap'\n",
    ")\n",
    "\n",
    "# 创建主聚类\n",
    "marker_cluster = MarkerCluster().add_to(m)\n",
    "\n",
    "# 创建特征组\n",
    "house_group = folium.FeatureGroup(name='🏠 房屋', show=True).add_to(m)\n",
    "poi_group = folium.FeatureGroup(name='📍 POI', show=True).add_to(m)\n",
    "\n",
    "# 添加房屋标记 - 橙红色正方形\n",
    "for idx, row in houses.iterrows():\n",
    "    folium.RegularPolygonMarker(\n",
    "        location=[row['lat'], row['lon']],\n",
    "        popup=f\"<b>🏠 房屋</b><br>小区: {row.get('community_name', idx)}<br>价格: {row.get('price_per_meter', 'N/A')}元/㎡\",\n",
    "        tooltip=f\"房屋 #{idx}\",\n",
    "        number_of_sides=4,  # 正方形\n",
    "        radius=8,\n",
    "        color='#FF4500',  # 橙红色边框\n",
    "        fill=True,\n",
    "        fillColor='#FF6347',  # 番茄红填充\n",
    "        fillOpacity=0.8,\n",
    "        weight=2,\n",
    "        rotation=45  # 旋转45度变成菱形\n",
    "    ).add_to(house_group)\n",
    "\n",
    "# 添加POI标记 - 青色三角形\n",
    "for idx, row in pois.iterrows():\n",
    "    poi_name = row.get('tags', {}).get('name', f'POI {idx}') if isinstance(row.get('tags'), dict) else f'POI {idx}'\n",
    "    \n",
    "    folium.RegularPolygonMarker(\n",
    "        location=[row['lat'], row['lon']],\n",
    "        popup=f\"<b>📍 POI</b><br>名称: {poi_name}\",\n",
    "        tooltip=poi_name,\n",
    "        number_of_sides=3,  # 三角形\n",
    "        radius=8,\n",
    "        color='#008B8B',  # 深青色边框\n",
    "        fill=True,\n",
    "        fillColor='#20B2AA',  # 浅海绿色填充\n",
    "        fillOpacity=0.8,\n",
    "        weight=2,\n",
    "        rotation=0\n",
    "    ).add_to(poi_group)\n",
    "\n",
    "# 添加图层控制\n",
    "folium.LayerControl(collapsed=False).add_to(m)\n",
    "\n",
    "# 添加增强型图例\n",
    "legend_html = '''\n",
    "<div style=\"position: fixed; \n",
    "            bottom: 50px; right: 50px; width: 200px; height: 150px; \n",
    "            background-color: rgba(255, 255, 255, 0.95); \n",
    "            border: 3px solid #2C3E50; z-index:9999; \n",
    "            font-size: 12px; padding: 12px; border-radius: 10px;\n",
    "            box-shadow: 0 6px 12px rgba(0,0,0,0.4);\">\n",
    "<p style=\"margin: 0 0 12px 0; font-weight: bold; font-size: 14px; \n",
    "          color: #2C3E50; text-align: center;\n",
    "          border-bottom: 3px solid #3498DB; padding-bottom: 8px;\">\n",
    "    🗺️ 图例说明\n",
    "</p>\n",
    "<div style=\"display: flex; align-items: center; margin: 8px 0;\">\n",
    "    <div style=\"width: 20px; height: 20px; background-color: #FF6347; \n",
    "                border: 2px solid #FF4500; transform: rotate(45deg);\n",
    "                margin-right: 12px;\"></div>\n",
    "    <span style=\"font-weight: 600; font-size: 11px;\">房屋位置 (<span style=\"color: #E74C3C;\">{}</span> 个)</span>\n",
    "</div>\n",
    "<div style=\"display: flex; align-items: center; margin: 8px 0;\">\n",
    "    <div style=\"width: 0; height: 0; \n",
    "                border-left: 10px solid transparent;\n",
    "                border-right: 10px solid transparent;\n",
    "                border-bottom: 20px solid #20B2AA;\n",
    "                margin-right: 12px; margin-left: 3px;\"></div>\n",
    "    <span style=\"font-weight: 600; font-size: 11px;\">POI位置 (<span style=\"color: #16A085;\">{}</span> 个)</span>\n",
    "</div>\n",
    "<p style=\"margin-top: 12px; font-size: 10px; color: #7F8C8D; \n",
    "          text-align: center; font-style: italic;\">\n",
    "    💡 点击标记查看详细信息\n",
    "</p>\n",
    "</div>\n",
    "'''.format(len(houses), len(pois))\n",
    "\n",
    "m.get_root().html.add_child(folium.Element(legend_html))\n",
    "\n",
    "output_file = '../image/scatter_graph_beijing_houses_pois_map.html'\n",
    "\n",
    "m.save(output_file)\n",
    "print(f\"✓ 几何形状区分地图已保存到: {output_file}\")\n",
    "print(f\"  - 🔶 房屋: {len(houses)} 个 (橙红色菱形)\")\n",
    "print(f\"  - 🔺 POI: {len(pois)} 个 (青色三角形)\")"
   ]
  },
  {
   "cell_type": "markdown",
   "id": "64b7c5d4",
   "metadata": {},
   "source": [
    "## 热力图"
   ]
  },
  {
   "cell_type": "code",
   "execution_count": 8,
   "id": "5bccef17",
   "metadata": {},
   "outputs": [
    {
     "data": {
      "text/plain": [
       "True"
      ]
     },
     "execution_count": 8,
     "metadata": {},
     "output_type": "execute_result"
    }
   ],
   "source": [
    "# 创建地图\n",
    "m = folium.Map(\n",
    "    location=beijing_center,\n",
    "    zoom_start=11,\n",
    "    tiles='OpenStreetMap'\n",
    ")\n",
    "\n",
    "heat_data = []\n",
    "for idx, row in houses.iterrows():\n",
    "    heat_data.append([row['lat'], row['lon']])\n",
    "for idx, row in pois.iterrows():\n",
    "    heat_data.append([row['lat'], row['lon']])\n",
    "    \n",
    "HeatMap(heat_data, radius=15, blur=25, max_zoom=13).add_to(m)\n",
    "\n",
    "# 保存地图\n",
    "output_file = '../image/heat_map_beijing_houses_pois_map.html'\n",
    "m.save(output_file)\n",
    "\n",
    "webbrowser.open(output_file)"
   ]
  },
  {
   "cell_type": "code",
   "execution_count": null,
   "id": "26b93816",
   "metadata": {},
   "outputs": [],
   "source": []
  }
 ],
 "metadata": {
  "kernelspec": {
   "display_name": "network_analysis",
   "language": "python",
   "name": "python3"
  },
  "language_info": {
   "codemirror_mode": {
    "name": "ipython",
    "version": 3
   },
   "file_extension": ".py",
   "mimetype": "text/x-python",
   "name": "python",
   "nbconvert_exporter": "python",
   "pygments_lexer": "ipython3",
   "version": "3.13.7"
  }
 },
 "nbformat": 4,
 "nbformat_minor": 5
}
