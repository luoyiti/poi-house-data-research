{
 "cells": [
  {
   "cell_type": "markdown",
   "id": "24156d5e",
   "metadata": {},
   "source": [
    "# POI数据点整理"
   ]
  },
  {
   "cell_type": "code",
   "execution_count": 1,
   "id": "304719c9",
   "metadata": {},
   "outputs": [],
   "source": [
    "import json"
   ]
  },
  {
   "cell_type": "code",
   "execution_count": 2,
   "id": "a0baac4d",
   "metadata": {},
   "outputs": [],
   "source": [
    "with open(\"data/poi_data.json\", \"r\") as f:\n",
    "    data = json.load(f)"
   ]
  },
  {
   "cell_type": "code",
   "execution_count": 3,
   "id": "ff605b6f",
   "metadata": {},
   "outputs": [],
   "source": [
    "def generate_main_tag(poi: dict):\n",
    "    \"\"\"从原本的tag中, 提取出主要关键词\n",
    "    \"\"\"\n",
    "    tag: dict = poi['tags']\n",
    "    if \"amenity\" in tag.keys():\n",
    "        return 'amenity', tag['amenity']\n",
    "    elif \"shop\" in tag.keys():\n",
    "        return 'shop', tag['shop']\n",
    "    elif \"tourism\" in tag.keys():\n",
    "        return 'tourism', tag['tourism']\n",
    "    elif \"leisure\" in tag.keys():\n",
    "        return 'leisure', tag['leisure']\n",
    "    elif \"healthcare\" in tag.keys():\n",
    "        return 'healthcare', tag['healthcare']\n",
    "    elif \"public_transport\" in tag.keys():\n",
    "        return 'public_transport', tag['public_transport']\n",
    "    elif \"railway\" in tag.keys():\n",
    "        if \"subway\" in tag.keys():\n",
    "            return 'railway', 'subway'\n",
    "        elif 'train' in tag.keys():\n",
    "            return 'railway', 'train'\n",
    "        elif 'subway' in tag['railway']:\n",
    "            return 'railway', 'subway'\n",
    "        else:\n",
    "            return 'railway', tag['railway']\n",
    "    elif \"aeroway\" in tag.keys():\n",
    "        return 'aeroway', tag['aeroway']\n",
    "    elif \"sport\" in tag.keys():\n",
    "        return 'sport', tag['sport']\n",
    "    elif \"education\" in tag.keys():\n",
    "        return 'education', tag['education']\n",
    "    elif \"office\" in tag.keys():\n",
    "        return 'office', tag['office']\n",
    "    else:\n",
    "        return 'error', poi['id']"
   ]
  },
  {
   "cell_type": "code",
   "execution_count": 4,
   "id": "223e880c",
   "metadata": {},
   "outputs": [
    {
     "name": "stdout",
     "output_type": "stream",
     "text": [
      "\n",
      "处理完成! 总计 40887 个POI, 0 个错误\n"
     ]
    }
   ],
   "source": [
    "error_count = 0\n",
    "for i, poi in enumerate(data):\n",
    "    try:\n",
    "        result = generate_main_tag(poi)\n",
    "        if result is None:\n",
    "            print(f\"警告: POI {i} 返回None, ID: {poi.get('id', 'unknown')}\")\n",
    "            poi['first_tag'], poi['second_tag'] = 'unknown', 'unknown'\n",
    "        else:\n",
    "            poi['first_tag'], poi['second_tag'] = result\n",
    "    except Exception as e:\n",
    "        error_count += 1\n",
    "        print(f\"错误: POI {i} 处理失败: {e}\")\n",
    "        print(f\"  标签内容: {poi.get('tags', {})}\")\n",
    "        poi['first_tag'], poi['second_tag'] = 'error', 'processing_failed'\n",
    "\n",
    "print(f\"\\n处理完成! 总计 {len(data)} 个POI, {error_count} 个错误\")"
   ]
  },
  {
   "cell_type": "code",
   "execution_count": 5,
   "id": "a5303943",
   "metadata": {},
   "outputs": [],
   "source": [
    "with open('data/poi_data_more_precise.json', 'w') as f:\n",
    "    json.dump(data, f, ensure_ascii=False, indent = 4)"
   ]
  },
  {
   "cell_type": "markdown",
   "id": "4b390b55",
   "metadata": {},
   "source": [
    "## 对总体数据处理"
   ]
  },
  {
   "cell_type": "code",
   "execution_count": 2,
   "id": "29b66855",
   "metadata": {},
   "outputs": [],
   "source": [
    "with open(\"data/house_poi_data.json\", \"r\") as f:\n",
    "    data = json.load(f)"
   ]
  },
  {
   "cell_type": "code",
   "execution_count": 7,
   "id": "510c22c6",
   "metadata": {},
   "outputs": [],
   "source": [
    "data = data['houses']"
   ]
  },
  {
   "cell_type": "code",
   "execution_count": 8,
   "id": "e1c66da7",
   "metadata": {},
   "outputs": [
    {
     "name": "stdout",
     "output_type": "stream",
     "text": [
      "\n",
      "处理完成! 总计 2752477 个POI, 0 个错误\n"
     ]
    }
   ],
   "source": [
    "error_count = 0\n",
    "i = 0\n",
    "for house in data:\n",
    "    pois = house['pois']\n",
    "    for poi in pois:\n",
    "        try:\n",
    "            i += 1\n",
    "            result = generate_main_tag(poi)\n",
    "            if result is None:\n",
    "                print(f\"警告: POI {i} 返回None, ID: {poi.get('id', 'unknown')}\")\n",
    "                poi['first_tag'], poi['second_tag'] = 'unknown', 'unknown'\n",
    "            else:\n",
    "                poi['first_tag'], poi['second_tag'] = result\n",
    "        except Exception as e:\n",
    "            error_count += 1\n",
    "            print(f\"错误: POI {i} 处理失败: {e}\")\n",
    "            print(f\"  标签内容: {poi.get('tags', {})}\")\n",
    "            poi['first_tag'], poi['second_tag'] = 'error', 'processing_failed'\n",
    "\n",
    "print(f\"\\n处理完成! 总计 {i} 个POI, {error_count} 个错误\")"
   ]
  },
  {
   "cell_type": "code",
   "execution_count": 9,
   "id": "be6e1b3e",
   "metadata": {},
   "outputs": [],
   "source": [
    "with open('data/house_poi_data_more_precise.json', 'w') as f:\n",
    "    json.dump(data, f, ensure_ascii=False, indent = 4)"
   ]
  },
  {
   "cell_type": "markdown",
   "id": "a31d3e3b",
   "metadata": {},
   "source": [
    "## POI-房屋数据整理"
   ]
  },
  {
   "cell_type": "code",
   "execution_count": 3,
   "id": "3efdd209",
   "metadata": {},
   "outputs": [],
   "source": [
    "# 以poi数据为中心，统计与poi相互关联的房屋数据"
   ]
  },
  {
   "cell_type": "code",
   "execution_count": 3,
   "id": "f7d9a266",
   "metadata": {},
   "outputs": [],
   "source": [
    "with open('data/house_poi_data_more_precise.json', 'r') as f:\n",
    "    houses = json.load(f)\n",
    "with open(\"data/poi_data_more_precise.json\", \"r\") as f:\n",
    "    pois = json.load(f)"
   ]
  },
  {
   "cell_type": "code",
   "execution_count": 4,
   "id": "5f7fd51c",
   "metadata": {},
   "outputs": [],
   "source": [
    "poi_dict = {poi['id']:[] for poi in pois}\n",
    "for house in houses:\n",
    "    house_info = house.copy()\n",
    "    del house_info['pois']\n",
    "    for poi in house['pois']:\n",
    "        poi_dict[poi['id']].append(house_info)\n",
    "for poi in pois:\n",
    "    id = poi['id']\n",
    "    poi['nearby_houses'] = poi_dict[id]"
   ]
  },
  {
   "cell_type": "code",
   "execution_count": 5,
   "id": "830e441a",
   "metadata": {},
   "outputs": [],
   "source": [
    "# 计算每个poi节点周围房产的平均价格\n",
    "for poi in pois:\n",
    "    total_value = 0\n",
    "    total_houses_count = len(poi['nearby_houses'])\n",
    "    for house in poi['nearby_houses']:\n",
    "        total_value += float(house['price_per_meter'])\n",
    "    poi['total_houses_count'] = total_houses_count\n",
    "    poi['average_nearby_house_price'] = total_value / total_houses_count"
   ]
  },
  {
   "cell_type": "code",
   "execution_count": 6,
   "id": "3bd44046",
   "metadata": {},
   "outputs": [],
   "source": [
    "with open(\"data/poi_house_data_more_precise.json\", \"w\") as f:\n",
    "    json.dump(pois, f, ensure_ascii=False, indent = 4)"
   ]
  },
  {
   "cell_type": "code",
   "execution_count": 8,
   "id": "6d8c13fc",
   "metadata": {},
   "outputs": [],
   "source": [
    "pois.sort(key = lambda x: x['average_nearby_house_price'], reverse=True)"
   ]
  },
  {
   "cell_type": "code",
   "execution_count": null,
   "id": "de5884e0",
   "metadata": {},
   "outputs": [],
   "source": []
  }
 ],
 "metadata": {
  "kernelspec": {
   "display_name": "network_analysis",
   "language": "python",
   "name": "python3"
  },
  "language_info": {
   "codemirror_mode": {
    "name": "ipython",
    "version": 3
   },
   "file_extension": ".py",
   "mimetype": "text/x-python",
   "name": "python",
   "nbconvert_exporter": "python",
   "pygments_lexer": "ipython3",
   "version": "3.13.7"
  }
 },
 "nbformat": 4,
 "nbformat_minor": 5
}
